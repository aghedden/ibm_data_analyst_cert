{
 "cells": [
  {
   "cell_type": "markdown",
   "metadata": {},
   "source": [
    "# Databases and SQL for Data Science with Python Final Project"
   ]
  },
  {
   "cell_type": "markdown",
   "metadata": {},
   "source": [
    "This project served as the final project for the course Databases and SQL for Data Science with Python with Honors. Project aims can be found below. \n"
   ]
  },
  {
   "cell_type": "markdown",
   "metadata": {},
   "source": [
    "## Project Set-Up"
   ]
  },
  {
   "cell_type": "code",
   "execution_count": 9,
   "metadata": {},
   "outputs": [
    {
     "name": "stdout",
     "output_type": "stream",
     "text": [
      "The sql extension is already loaded. To reload it, use:\n",
      "  %reload_ext sql\n"
     ]
    }
   ],
   "source": [
    "# import required packages and libraries\n",
    "import prettytable\n",
    "import pandas as pd\n",
    "import sqlite3\n",
    "\n",
    "prettytable.DEFAULT = 'DEFAULT'\n",
    "\n",
    "# load the SQL magic module\n",
    "%load_ext sql\n",
    "\n",
    "# establish a connection to the database\n",
    "conn = sqlite3.connect('FinalDB.db')\n",
    "%sql sqlite:///FinalDB.db"
   ]
  },
  {
   "cell_type": "markdown",
   "metadata": {},
   "source": [
    "### Load the data and add to SQL database"
   ]
  },
  {
   "cell_type": "code",
   "execution_count": 6,
   "metadata": {},
   "outputs": [
    {
     "name": "stdout",
     "output_type": "stream",
     "text": [
      "   COMMUNITY_AREA_NUMBER COMMUNITY_AREA_NAME  PERCENT_OF_HOUSING_CROWDED  \\\n",
      "0                    1.0         Rogers Park                         7.7   \n",
      "1                    2.0          West Ridge                         7.8   \n",
      "2                    3.0              Uptown                         3.8   \n",
      "3                    4.0      Lincoln Square                         3.4   \n",
      "4                    5.0        North Center                         0.3   \n",
      "\n",
      "   PERCENT_HOUSEHOLDS_BELOW_POVERTY  PERCENT_AGED_16__UNEMPLOYED  \\\n",
      "0                              23.6                          8.7   \n",
      "1                              17.2                          8.8   \n",
      "2                              24.0                          8.9   \n",
      "3                              10.9                          8.2   \n",
      "4                               7.5                          5.2   \n",
      "\n",
      "   PERCENT_AGED_25__WITHOUT_HIGH_SCHOOL_DIPLOMA  \\\n",
      "0                                          18.2   \n",
      "1                                          20.8   \n",
      "2                                          11.8   \n",
      "3                                          13.4   \n",
      "4                                           4.5   \n",
      "\n",
      "   PERCENT_AGED_UNDER_18_OR_OVER_64  PER_CAPITA_INCOME  HARDSHIP_INDEX  \n",
      "0                              27.5              23939            39.0  \n",
      "1                              38.5              23040            46.0  \n",
      "2                              22.2              35787            20.0  \n",
      "3                              25.5              37524            17.0  \n",
      "4                              26.2              57123             6.0  \n",
      "   School_ID                                     NAME_OF_SCHOOL SCHOOL_TYPE  \\\n",
      "0     610038                  Abraham Lincoln Elementary School          ES   \n",
      "1     610281  Adam Clayton Powell Paideia Community Academy ...          ES   \n",
      "2     610185                Adlai E Stevenson Elementary School          ES   \n",
      "3     609993                    Agustin Lara Elementary Academy          ES   \n",
      "4     610513                      Air Force Academy High School          HS   \n",
      "\n",
      "          Street_Address     City State  ZIP_Code    Phone_Number  \\\n",
      "0        615 W Kemper Pl  Chicago    IL     60614  (773) 534-5720   \n",
      "1  7511 S South Shore Dr  Chicago    IL     60649  (773) 535-6650   \n",
      "2     8010 S Kostner Ave  Chicago    IL     60652  (773) 535-2280   \n",
      "3     4619 S Wolcott Ave  Chicago    IL     60609  (773) 535-4389   \n",
      "4        3630 S Wells St  Chicago    IL     60609  (773) 535-1590   \n",
      "\n",
      "                                                Link  \\\n",
      "0  http://schoolreports.cps.edu/SchoolProgressRep...   \n",
      "1  http://schoolreports.cps.edu/SchoolProgressRep...   \n",
      "2  http://schoolreports.cps.edu/SchoolProgressRep...   \n",
      "3  http://schoolreports.cps.edu/SchoolProgressRep...   \n",
      "4  http://schoolreports.cps.edu/SchoolProgressRep...   \n",
      "\n",
      "                      Network_Manager  ... Freshman_on_Track_Rate__  \\\n",
      "0        Fullerton Elementary Network  ...                      NDA   \n",
      "1           Skyway Elementary Network  ...                      NDA   \n",
      "2           Midway Elementary Network  ...                      NDA   \n",
      "3         Pershing Elementary Network  ...                      NDA   \n",
      "4  Southwest Side High School Network  ...                     91.8   \n",
      "\n",
      "  X_COORDINATE Y_COORDINATE   Latitude  Longitude COMMUNITY_AREA_NUMBER  \\\n",
      "0  1171699.458  1915829.428  41.924497 -87.644522                     7   \n",
      "1  1196129.985  1856209.466  41.760324 -87.556736                    43   \n",
      "2  1148427.165  1851012.215  41.747111 -87.731702                    70   \n",
      "3  1164504.290  1873959.199  41.809757 -87.672145                    61   \n",
      "4  1175177.622  1880745.126  41.828146 -87.632794                    34   \n",
      "\n",
      "  COMMUNITY_AREA_NAME  Ward Police_District                     Location  \n",
      "0        LINCOLN PARK    43              18  (41.92449696, -87.64452163)  \n",
      "1         SOUTH SHORE     7               4  (41.76032435, -87.55673627)  \n",
      "2             ASHBURN    13               8  (41.74711093, -87.73170248)  \n",
      "3            NEW CITY    20               9    (41.8097569, -87.6721446)  \n",
      "4       ARMOUR SQUARE    11               9  (41.82814609, -87.63279369)  \n",
      "\n",
      "[5 rows x 78 columns]\n",
      "         ID CASE_NUMBER        DATE                     BLOCK IUCR  \\\n",
      "0   3512276    HK587712  2004-08-28        047XX S KEDZIE AVE  890   \n",
      "1   3406613    HK456306  2004-06-26  009XX N CENTRAL PARK AVE  820   \n",
      "2   8002131    HT233595  2011-04-04        043XX S WABASH AVE  820   \n",
      "3   7903289    HT133522  2010-12-30      083XX S KINGSTON AVE  840   \n",
      "4  10402076    HZ138551  2016-02-02           033XX W 66TH ST  820   \n",
      "\n",
      "  PRIMARY_TYPE                    DESCRIPTION          LOCATION_DESCRIPTION  \\\n",
      "0        THEFT                  FROM BUILDING            SMALL RETAIL STORE   \n",
      "1        THEFT                 $500 AND UNDER                         OTHER   \n",
      "2        THEFT                 $500 AND UNDER  NURSING HOME/RETIREMENT HOME   \n",
      "3        THEFT  FINANCIAL ID THEFT: OVER $300                     RESIDENCE   \n",
      "4        THEFT                 $500 AND UNDER                         ALLEY   \n",
      "\n",
      "   ARREST  DOMESTIC  ...  DISTRICT  WARD  COMMUNITY_AREA_NUMBER  FBICODE  \\\n",
      "0   False     False  ...         9  14.0                   58.0        6   \n",
      "1   False     False  ...        11  27.0                   23.0        6   \n",
      "2   False     False  ...         2   3.0                   38.0        6   \n",
      "3   False     False  ...         4   7.0                   46.0        6   \n",
      "4   False     False  ...         8  15.0                   66.0        6   \n",
      "\n",
      "  X_COORDINATE  Y_COORDINATE  YEAR   LATITUDE  LONGITUDE  \\\n",
      "0    1155838.0     1873050.0  2004  41.807440 -87.703956   \n",
      "1    1152206.0     1906127.0  2004  41.898280 -87.716406   \n",
      "2    1177436.0     1876313.0  2011  41.815933 -87.624642   \n",
      "3    1194622.0     1850125.0  2010  41.743665 -87.562463   \n",
      "4    1155240.0     1860661.0  2016  41.773455 -87.706480   \n",
      "\n",
      "                        LOCATION  \n",
      "0    (41.8074405, -87.703955849)  \n",
      "1  (41.898279962, -87.716405505)  \n",
      "2  (41.815933131, -87.624642127)  \n",
      "3  (41.743665322, -87.562462756)  \n",
      "4  (41.773455295, -87.706480471)  \n",
      "\n",
      "[5 rows x 21 columns]\n"
     ]
    }
   ],
   "source": [
    "# load census data\n",
    "chi_census_data = pd.read_csv('ChicagoCensusData.csv')\n",
    "print(chi_census_data.head())\n",
    "\n",
    "# load public school data\n",
    "chi_pub_school_data = pd.read_csv('ChicagoPublicSchools.csv')\n",
    "# update column name\n",
    "chi_pub_school_data = chi_pub_school_data.rename(columns={'Elementary, Middle, or High School': 'SCHOOL_TYPE'})\n",
    "print(chi_pub_school_data.head())\n",
    "\n",
    "# load crimes data\n",
    "chi_crime_data = pd.read_csv('ChicagoCrimeData.csv')\n",
    "print(chi_crime_data.head())"
   ]
  },
  {
   "cell_type": "markdown",
   "metadata": {},
   "source": [
    "Establish a connection between SQL magic module and the database `FinalDB.db`\n"
   ]
  },
  {
   "cell_type": "code",
   "execution_count": 8,
   "metadata": {},
   "outputs": [
    {
     "name": "stdout",
     "output_type": "stream",
     "text": [
      " * sqlite:///FinalDB.db\n",
      "Done.\n"
     ]
    },
    {
     "data": {
      "text/html": [
       "<table>\n",
       "    <thead>\n",
       "        <tr>\n",
       "            <th>name</th>\n",
       "        </tr>\n",
       "    </thead>\n",
       "    <tbody>\n",
       "        <tr>\n",
       "            <td>chi_census_data</td>\n",
       "        </tr>\n",
       "        <tr>\n",
       "            <td>chi_pub_school_data</td>\n",
       "        </tr>\n",
       "        <tr>\n",
       "            <td>chi_crime_data</td>\n",
       "        </tr>\n",
       "    </tbody>\n",
       "</table>"
      ],
      "text/plain": [
       "[('chi_census_data',), ('chi_pub_school_data',), ('chi_crime_data',)]"
      ]
     },
     "execution_count": 8,
     "metadata": {},
     "output_type": "execute_result"
    }
   ],
   "source": [
    "# add tables to database\n",
    "chi_census_data.to_sql('chi_census_data', conn, if_exists='replace', index=False)\n",
    "\n",
    "chi_pub_school_data.to_sql('chi_pub_school_data', conn, if_exists='replace', index=False)\n",
    "\n",
    "chi_crime_data.to_sql('chi_crime_data', conn, if_exists='replace', index=False)\n",
    "\n",
    "# confirm addition of tables to database\n",
    "%sql SELECT name FROM sqlite_master WHERE type='table';"
   ]
  },
  {
   "cell_type": "markdown",
   "metadata": {},
   "source": [
    "## Project Aims\n",
    "\n",
    "### Problem 1\n",
    "\n",
    "#### Find the total number of crimes recorded in the CRIME table.\n"
   ]
  },
  {
   "cell_type": "code",
   "execution_count": 14,
   "metadata": {},
   "outputs": [
    {
     "name": "stdout",
     "output_type": "stream",
     "text": [
      " * sqlite:///FinalDB.db\n",
      "Done.\n",
      "\n",
      "The total number of crimes is 533\n"
     ]
    }
   ],
   "source": [
    "total_crimes = %sql SELECT COUNT(*) FROM chi_crime_data;\n",
    "\n",
    "total_crimes_count = total_crimes[0][0]\n",
    "print('')\n",
    "print('The total number of crimes is', total_crimes_count)"
   ]
  },
  {
   "cell_type": "markdown",
   "metadata": {},
   "source": [
    "### Problem 2\n",
    "\n",
    "#### List community area names and numbers with per capita income less than 11000.\n"
   ]
  },
  {
   "cell_type": "code",
   "execution_count": 26,
   "metadata": {},
   "outputs": [
    {
     "name": "stdout",
     "output_type": "stream",
     "text": [
      " * sqlite:///FinalDB.db\n",
      "Done.\n"
     ]
    },
    {
     "data": {
      "text/html": [
       "<table>\n",
       "    <thead>\n",
       "        <tr>\n",
       "            <th>COMMUNITY_AREA_NUMBER</th>\n",
       "            <th>COMMUNITY_AREA_NAME</th>\n",
       "        </tr>\n",
       "    </thead>\n",
       "    <tbody>\n",
       "        <tr>\n",
       "            <td>26.0</td>\n",
       "            <td>West Garfield Park</td>\n",
       "        </tr>\n",
       "        <tr>\n",
       "            <td>30.0</td>\n",
       "            <td>South Lawndale</td>\n",
       "        </tr>\n",
       "        <tr>\n",
       "            <td>37.0</td>\n",
       "            <td>Fuller Park</td>\n",
       "        </tr>\n",
       "        <tr>\n",
       "            <td>54.0</td>\n",
       "            <td>Riverdale</td>\n",
       "        </tr>\n",
       "    </tbody>\n",
       "</table>"
      ],
      "text/plain": [
       "[(26.0, 'West Garfield Park'),\n",
       " (30.0, 'South Lawndale'),\n",
       " (37.0, 'Fuller Park'),\n",
       " (54.0, 'Riverdale')]"
      ]
     },
     "execution_count": 26,
     "metadata": {},
     "output_type": "execute_result"
    }
   ],
   "source": [
    "%sql SELECT COMMUNITY_AREA_NUMBER, COMMUNITY_AREA_NAME FROM chi_census_data WHERE PER_CAPITA_INCOME < 11000;"
   ]
  },
  {
   "cell_type": "markdown",
   "metadata": {},
   "source": [
    "### Problem 3\n",
    "\n",
    "#### List all case numbers for crimes involving minors? (children are not considered minors for the purposes of crime analysis) \n"
   ]
  },
  {
   "cell_type": "code",
   "execution_count": 58,
   "metadata": {},
   "outputs": [
    {
     "name": "stdout",
     "output_type": "stream",
     "text": [
      " * sqlite:///FinalDB.db\n",
      "Done.\n"
     ]
    },
    {
     "data": {
      "text/html": [
       "<table>\n",
       "    <thead>\n",
       "        <tr>\n",
       "            <th>CASE_NUMBER</th>\n",
       "        </tr>\n",
       "    </thead>\n",
       "    <tbody>\n",
       "        <tr>\n",
       "            <td>HL266884</td>\n",
       "        </tr>\n",
       "        <tr>\n",
       "            <td>HK238408</td>\n",
       "        </tr>\n",
       "    </tbody>\n",
       "</table>"
      ],
      "text/plain": [
       "[('HL266884',), ('HK238408',)]"
      ]
     },
     "execution_count": 58,
     "metadata": {},
     "output_type": "execute_result"
    }
   ],
   "source": [
    "%%sql \n",
    "\n",
    "SELECT CASE_NUMBER \n",
    "FROM chi_crime_data\n",
    "WHERE DESCRIPTION LIKE '%minor%';"
   ]
  },
  {
   "cell_type": "markdown",
   "metadata": {},
   "source": [
    "### Problem 4\n",
    "\n",
    "#### List all kidnapping crimes involving a child?\n"
   ]
  },
  {
   "cell_type": "code",
   "execution_count": 74,
   "metadata": {},
   "outputs": [
    {
     "name": "stdout",
     "output_type": "stream",
     "text": [
      " * sqlite:///FinalDB.db\n",
      "Done.\n"
     ]
    },
    {
     "data": {
      "text/html": [
       "<table>\n",
       "    <thead>\n",
       "        <tr>\n",
       "            <th>ID</th>\n",
       "            <th>CASE_NUMBER</th>\n",
       "            <th>DATE</th>\n",
       "            <th>BLOCK</th>\n",
       "            <th>IUCR</th>\n",
       "            <th>PRIMARY_TYPE</th>\n",
       "            <th>DESCRIPTION</th>\n",
       "            <th>LOCATION_DESCRIPTION</th>\n",
       "            <th>ARREST</th>\n",
       "            <th>DOMESTIC</th>\n",
       "            <th>BEAT</th>\n",
       "            <th>DISTRICT</th>\n",
       "            <th>WARD</th>\n",
       "            <th>COMMUNITY_AREA_NUMBER</th>\n",
       "            <th>FBICODE</th>\n",
       "            <th>X_COORDINATE</th>\n",
       "            <th>Y_COORDINATE</th>\n",
       "            <th>YEAR</th>\n",
       "            <th>LATITUDE</th>\n",
       "            <th>LONGITUDE</th>\n",
       "            <th>LOCATION</th>\n",
       "        </tr>\n",
       "    </thead>\n",
       "    <tbody>\n",
       "        <tr>\n",
       "            <td>5276766</td>\n",
       "            <td>HN144152</td>\n",
       "            <td>2007-01-26</td>\n",
       "            <td>050XX W VAN BUREN ST</td>\n",
       "            <td>1792</td>\n",
       "            <td>KIDNAPPING</td>\n",
       "            <td>CHILD ABDUCTION/STRANGER</td>\n",
       "            <td>STREET</td>\n",
       "            <td>0</td>\n",
       "            <td>0</td>\n",
       "            <td>1533</td>\n",
       "            <td>15</td>\n",
       "            <td>29.0</td>\n",
       "            <td>25.0</td>\n",
       "            <td>20</td>\n",
       "            <td>1143050.0</td>\n",
       "            <td>1897546.0</td>\n",
       "            <td>2007</td>\n",
       "            <td>41.87490841</td>\n",
       "            <td>-87.75024931</td>\n",
       "            <td>(41.874908413, -87.750249307)</td>\n",
       "        </tr>\n",
       "    </tbody>\n",
       "</table>"
      ],
      "text/plain": [
       "[(5276766, 'HN144152', '2007-01-26', '050XX W VAN BUREN ST', '1792', 'KIDNAPPING', 'CHILD ABDUCTION/STRANGER', 'STREET', 0, 0, 1533, 15, 29.0, 25.0, '20', 1143050.0, 1897546.0, 2007, 41.87490841, -87.75024931, '(41.874908413, -87.750249307)')]"
      ]
     },
     "execution_count": 74,
     "metadata": {},
     "output_type": "execute_result"
    }
   ],
   "source": [
    "%%sql \n",
    "\n",
    "SELECT * \n",
    "FROM chi_crime_data\n",
    "WHERE PRIMARY_TYPE = 'KIDNAPPING' AND DESCRIPTION LIKE '%child%';"
   ]
  },
  {
   "cell_type": "markdown",
   "metadata": {},
   "source": [
    "### Problem 5\n",
    "\n",
    "#### List the kind of crimes that were recorded at schools. (No repetitions)\n"
   ]
  },
  {
   "cell_type": "code",
   "execution_count": 66,
   "metadata": {},
   "outputs": [
    {
     "name": "stdout",
     "output_type": "stream",
     "text": [
      " * sqlite:///FinalDB.db\n",
      "Done.\n"
     ]
    },
    {
     "data": {
      "text/html": [
       "<table>\n",
       "    <thead>\n",
       "        <tr>\n",
       "            <th>PRIMARY_TYPE</th>\n",
       "        </tr>\n",
       "    </thead>\n",
       "    <tbody>\n",
       "        <tr>\n",
       "            <td>BATTERY</td>\n",
       "        </tr>\n",
       "        <tr>\n",
       "            <td>CRIMINAL DAMAGE</td>\n",
       "        </tr>\n",
       "        <tr>\n",
       "            <td>NARCOTICS</td>\n",
       "        </tr>\n",
       "        <tr>\n",
       "            <td>ASSAULT</td>\n",
       "        </tr>\n",
       "        <tr>\n",
       "            <td>CRIMINAL TRESPASS</td>\n",
       "        </tr>\n",
       "        <tr>\n",
       "            <td>PUBLIC PEACE VIOLATION</td>\n",
       "        </tr>\n",
       "    </tbody>\n",
       "</table>"
      ],
      "text/plain": [
       "[('BATTERY',),\n",
       " ('CRIMINAL DAMAGE',),\n",
       " ('NARCOTICS',),\n",
       " ('ASSAULT',),\n",
       " ('CRIMINAL TRESPASS',),\n",
       " ('PUBLIC PEACE VIOLATION',)]"
      ]
     },
     "execution_count": 66,
     "metadata": {},
     "output_type": "execute_result"
    }
   ],
   "source": [
    "%%sql \n",
    "\n",
    "SELECT DISTINCT PRIMARY_TYPE \n",
    "FROM chi_crime_data\n",
    "WHERE LOWER(LOCATION_DESCRIPTION) LIKE '%school%';"
   ]
  },
  {
   "cell_type": "markdown",
   "metadata": {},
   "source": [
    "### Problem 6\n",
    "\n",
    "#### List the type of schools along with the average safety score for each type.\n"
   ]
  },
  {
   "cell_type": "code",
   "execution_count": 73,
   "metadata": {},
   "outputs": [
    {
     "name": "stdout",
     "output_type": "stream",
     "text": [
      " * sqlite:///FinalDB.db\n",
      "Done.\n"
     ]
    },
    {
     "data": {
      "text/html": [
       "<table>\n",
       "    <thead>\n",
       "        <tr>\n",
       "            <th>SCHOOL_TYPE</th>\n",
       "            <th>AVG_SAFETY</th>\n",
       "        </tr>\n",
       "    </thead>\n",
       "    <tbody>\n",
       "        <tr>\n",
       "            <td>ES</td>\n",
       "            <td>49.52038369304557</td>\n",
       "        </tr>\n",
       "        <tr>\n",
       "            <td>HS</td>\n",
       "            <td>49.62352941176471</td>\n",
       "        </tr>\n",
       "        <tr>\n",
       "            <td>MS</td>\n",
       "            <td>48.0</td>\n",
       "        </tr>\n",
       "    </tbody>\n",
       "</table>"
      ],
      "text/plain": [
       "[('ES', 49.52038369304557), ('HS', 49.62352941176471), ('MS', 48.0)]"
      ]
     },
     "execution_count": 73,
     "metadata": {},
     "output_type": "execute_result"
    }
   ],
   "source": [
    "%%sql\n",
    "\n",
    "SELECT SCHOOL_TYPE, AVG(SAFETY_SCORE) AS AVG_SAFETY\n",
    "FROM chi_pub_school_data\n",
    "GROUP BY SCHOOL_TYPE;"
   ]
  },
  {
   "cell_type": "markdown",
   "metadata": {},
   "source": [
    "### Problem 7\n",
    "\n",
    "#### List 5 community areas with highest % of households below poverty line\n"
   ]
  },
  {
   "cell_type": "code",
   "execution_count": 35,
   "metadata": {},
   "outputs": [
    {
     "name": "stdout",
     "output_type": "stream",
     "text": [
      " * sqlite:///FinalDB.db\n",
      "Done.\n"
     ]
    },
    {
     "data": {
      "text/html": [
       "<table>\n",
       "    <thead>\n",
       "        <tr>\n",
       "            <th>COMMUNITY_AREA_NUMBER</th>\n",
       "            <th>COMMUNITY_AREA_NAME</th>\n",
       "            <th>PERCENT_HOUSEHOLDS_BELOW_POVERTY</th>\n",
       "        </tr>\n",
       "    </thead>\n",
       "    <tbody>\n",
       "        <tr>\n",
       "            <td>54.0</td>\n",
       "            <td>Riverdale</td>\n",
       "            <td>56.5</td>\n",
       "        </tr>\n",
       "        <tr>\n",
       "            <td>37.0</td>\n",
       "            <td>Fuller Park</td>\n",
       "            <td>51.2</td>\n",
       "        </tr>\n",
       "        <tr>\n",
       "            <td>68.0</td>\n",
       "            <td>Englewood</td>\n",
       "            <td>46.6</td>\n",
       "        </tr>\n",
       "        <tr>\n",
       "            <td>29.0</td>\n",
       "            <td>North Lawndale</td>\n",
       "            <td>43.1</td>\n",
       "        </tr>\n",
       "        <tr>\n",
       "            <td>27.0</td>\n",
       "            <td>East Garfield Park</td>\n",
       "            <td>42.4</td>\n",
       "        </tr>\n",
       "    </tbody>\n",
       "</table>"
      ],
      "text/plain": [
       "[(54.0, 'Riverdale', 56.5),\n",
       " (37.0, 'Fuller Park', 51.2),\n",
       " (68.0, 'Englewood', 46.6),\n",
       " (29.0, 'North Lawndale', 43.1),\n",
       " (27.0, 'East Garfield Park', 42.4)]"
      ]
     },
     "execution_count": 35,
     "metadata": {},
     "output_type": "execute_result"
    }
   ],
   "source": [
    "%%sql \n",
    "\n",
    "SELECT COMMUNITY_AREA_NUMBER, COMMUNITY_AREA_NAME, PERCENT_HOUSEHOLDS_BELOW_POVERTY\n",
    "FROM chi_census_data \n",
    "ORDER BY PERCENT_HOUSEHOLDS_BELOW_POVERTY DESC\n",
    "LIMIT 5;"
   ]
  },
  {
   "cell_type": "markdown",
   "metadata": {},
   "source": [
    "### Problem 8\n",
    "\n",
    "#### Which community area is most crime prone? Display the coumminty area number only.\n"
   ]
  },
  {
   "cell_type": "code",
   "execution_count": 54,
   "metadata": {},
   "outputs": [
    {
     "name": "stdout",
     "output_type": "stream",
     "text": [
      " * sqlite:///FinalDB.db\n",
      "Done.\n"
     ]
    },
    {
     "data": {
      "text/html": [
       "<table>\n",
       "    <thead>\n",
       "        <tr>\n",
       "            <th>COMMUNITY_AREA_NUMBER</th>\n",
       "        </tr>\n",
       "    </thead>\n",
       "    <tbody>\n",
       "        <tr>\n",
       "            <td>25.0</td>\n",
       "        </tr>\n",
       "    </tbody>\n",
       "</table>"
      ],
      "text/plain": [
       "[(25.0,)]"
      ]
     },
     "execution_count": 54,
     "metadata": {},
     "output_type": "execute_result"
    }
   ],
   "source": [
    "%%sql \n",
    "SELECT COMMUNITY_AREA_NUMBER\n",
    "FROM chi_crime_data\n",
    "GROUP BY COMMUNITY_AREA_NUMBER\n",
    "ORDER BY COUNT(*) DESC\n",
    "LIMIT 1;"
   ]
  },
  {
   "cell_type": "markdown",
   "metadata": {},
   "source": [
    "### Problem 9\n",
    "\n",
    "#### Use a sub-query to find the name of the community area with highest hardship index\n",
    "\n",
    "<br>(Note from A. Hedden) <br> Simple query would be: \n",
    "\n",
    "SELECT COMMUNITY_AREA_NAME <br>\n",
    "FROM chi_census_data <br>\n",
    "ORDER BY HARDSHIP_INDEX DESC <br>\n",
    "LIMIT 1; <br>"
   ]
  },
  {
   "cell_type": "code",
   "execution_count": 52,
   "metadata": {},
   "outputs": [
    {
     "name": "stdout",
     "output_type": "stream",
     "text": [
      " * sqlite:///FinalDB.db\n",
      "Done.\n"
     ]
    },
    {
     "data": {
      "text/html": [
       "<table>\n",
       "    <thead>\n",
       "        <tr>\n",
       "            <th>COMMUNITY_AREA_NAME</th>\n",
       "        </tr>\n",
       "    </thead>\n",
       "    <tbody>\n",
       "        <tr>\n",
       "            <td>Riverdale</td>\n",
       "        </tr>\n",
       "    </tbody>\n",
       "</table>"
      ],
      "text/plain": [
       "[('Riverdale',)]"
      ]
     },
     "execution_count": 52,
     "metadata": {},
     "output_type": "execute_result"
    }
   ],
   "source": [
    "%%sql\n",
    "SELECT COMMUNITY_AREA_NAME\n",
    "FROM chi_census_data\n",
    "WHERE COMMUNITY_AREA_NUMBER = (\n",
    "    SELECT COMMUNITY_AREA_NUMBER\n",
    "    FROM chi_census_data\n",
    "    ORDER BY HARDSHIP_INDEX DESC\n",
    "    LIMIT 1\n",
    ");"
   ]
  },
  {
   "cell_type": "markdown",
   "metadata": {},
   "source": [
    "### Problem 10\n",
    "#### Use a sub-query to determine the Community Area Name with most number of crimes?\n"
   ]
  },
  {
   "cell_type": "code",
   "execution_count": 75,
   "metadata": {},
   "outputs": [
    {
     "name": "stdout",
     "output_type": "stream",
     "text": [
      " * sqlite:///FinalDB.db\n",
      "Done.\n"
     ]
    },
    {
     "data": {
      "text/html": [
       "<table>\n",
       "    <thead>\n",
       "        <tr>\n",
       "            <th>COMMUNITY_AREA_NUMBER</th>\n",
       "            <th>COMMUNITY_AREA_NAME</th>\n",
       "        </tr>\n",
       "    </thead>\n",
       "    <tbody>\n",
       "        <tr>\n",
       "            <td>25.0</td>\n",
       "            <td>Austin</td>\n",
       "        </tr>\n",
       "    </tbody>\n",
       "</table>"
      ],
      "text/plain": [
       "[(25.0, 'Austin')]"
      ]
     },
     "execution_count": 75,
     "metadata": {},
     "output_type": "execute_result"
    }
   ],
   "source": [
    "%%sql \n",
    "SELECT COMMUNITY_AREA_NUMBER, COMMUNITY_AREA_NAME\n",
    "FROM chi_census_data\n",
    "WHERE COMMUNITY_AREA_NUMBER = (\n",
    "    SELECT COMMUNITY_AREA_NUMBER\n",
    "    FROM chi_crime_data\n",
    "    GROUP BY COMMUNITY_AREA_NUMBER\n",
    "    ORDER BY COUNT(*) DESC\n",
    "    LIMIT 1\n",
    ");"
   ]
  },
  {
   "cell_type": "markdown",
   "metadata": {},
   "source": [
    "## Final Assignment Author and Contributor Credits\n",
    "\n",
    "### Author(s)\n",
    "#### Hima Vasudevan \n",
    "#### Rav Ahuja \n",
    "#### Ramesh Sannreddy \n",
    "\n",
    "### Contribtuor(s)\n",
    "#### Malika Singla \n",
    "#### Abhishek Gagneja"
   ]
  },
  {
   "cell_type": "markdown",
   "metadata": {},
   "source": [
    "# Honors Supplement\n",
    "Additional problems were completed to earn **Honors** for this course. "
   ]
  },
  {
   "cell_type": "markdown",
   "metadata": {},
   "source": [
    "### Honors Problem 1"
   ]
  },
  {
   "cell_type": "markdown",
   "metadata": {},
   "source": [
    "#### Write and execute a SQL query to list the school names, community names and average attendance for communities with a hardship index of 98."
   ]
  },
  {
   "cell_type": "code",
   "execution_count": 16,
   "metadata": {},
   "outputs": [
    {
     "name": "stdout",
     "output_type": "stream",
     "text": [
      " * sqlite:///FinalDB.db\n",
      "Done.\n"
     ]
    },
    {
     "data": {
      "text/html": [
       "<table>\n",
       "    <thead>\n",
       "        <tr>\n",
       "            <th>NAME_OF_SCHOOL</th>\n",
       "            <th>COMMUNITY_AREA_NAME</th>\n",
       "            <th>AVERAGE_STUDENT_ATTENDANCE</th>\n",
       "        </tr>\n",
       "    </thead>\n",
       "    <tbody>\n",
       "        <tr>\n",
       "            <td>George Washington Carver Military Academy High School</td>\n",
       "            <td>RIVERDALE</td>\n",
       "            <td>91.60%</td>\n",
       "        </tr>\n",
       "        <tr>\n",
       "            <td>George Washington Carver Primary School</td>\n",
       "            <td>RIVERDALE</td>\n",
       "            <td>90.90%</td>\n",
       "        </tr>\n",
       "        <tr>\n",
       "            <td>Ira F Aldridge Elementary School</td>\n",
       "            <td>RIVERDALE</td>\n",
       "            <td>92.90%</td>\n",
       "        </tr>\n",
       "        <tr>\n",
       "            <td>William E B Dubois Elementary School</td>\n",
       "            <td>RIVERDALE</td>\n",
       "            <td>93.30%</td>\n",
       "        </tr>\n",
       "    </tbody>\n",
       "</table>"
      ],
      "text/plain": [
       "[('George Washington Carver Military Academy High School', 'RIVERDALE', '91.60%'),\n",
       " ('George Washington Carver Primary School', 'RIVERDALE', '90.90%'),\n",
       " ('Ira F Aldridge Elementary School', 'RIVERDALE', '92.90%'),\n",
       " ('William E B Dubois Elementary School', 'RIVERDALE', '93.30%')]"
      ]
     },
     "execution_count": 16,
     "metadata": {},
     "output_type": "execute_result"
    }
   ],
   "source": [
    "%%sql \n",
    "\n",
    "SELECT ps.NAME_OF_SCHOOL, ps.COMMUNITY_AREA_NAME, ps.AVERAGE_STUDENT_ATTENDANCE\n",
    "FROM chi_pub_school_data AS ps\n",
    "LEFT JOIN chi_census_data as cen\n",
    "ON ps.COMMUNITY_AREA_NUMBER = cen.COMMUNITY_AREA_NUMBER\n",
    "WHERE cen.HARDSHIP_INDEX = 98;"
   ]
  },
  {
   "cell_type": "markdown",
   "metadata": {},
   "source": [
    "### Honors Problem 2"
   ]
  },
  {
   "cell_type": "markdown",
   "metadata": {},
   "source": [
    "#### Write and execute a SQL query to list all crimes that took place at a school. Include case number, crime type and community name."
   ]
  },
  {
   "cell_type": "code",
   "execution_count": 22,
   "metadata": {},
   "outputs": [
    {
     "name": "stdout",
     "output_type": "stream",
     "text": [
      " * sqlite:///FinalDB.db\n",
      "Done.\n"
     ]
    },
    {
     "data": {
      "text/html": [
       "<table>\n",
       "    <thead>\n",
       "        <tr>\n",
       "            <th>CASE_NUMBER</th>\n",
       "            <th>PRIMARY_TYPE</th>\n",
       "            <th>COMMUNITY_AREA_NAME</th>\n",
       "        </tr>\n",
       "    </thead>\n",
       "    <tbody>\n",
       "        <tr>\n",
       "            <td>HL353697</td>\n",
       "            <td>BATTERY</td>\n",
       "            <td>South Shore</td>\n",
       "        </tr>\n",
       "        <tr>\n",
       "            <td>HL725506</td>\n",
       "            <td>BATTERY</td>\n",
       "            <td>Lincoln Square</td>\n",
       "        </tr>\n",
       "        <tr>\n",
       "            <td>HP716225</td>\n",
       "            <td>BATTERY</td>\n",
       "            <td>Douglas</td>\n",
       "        </tr>\n",
       "        <tr>\n",
       "            <td>HH639427</td>\n",
       "            <td>BATTERY</td>\n",
       "            <td>Austin</td>\n",
       "        </tr>\n",
       "        <tr>\n",
       "            <td>JA460432</td>\n",
       "            <td>BATTERY</td>\n",
       "            <td>Ashburn</td>\n",
       "        </tr>\n",
       "        <tr>\n",
       "            <td>HS200939</td>\n",
       "            <td>CRIMINAL DAMAGE</td>\n",
       "            <td>Austin</td>\n",
       "        </tr>\n",
       "        <tr>\n",
       "            <td>HK577020</td>\n",
       "            <td>NARCOTICS</td>\n",
       "            <td>Rogers Park</td>\n",
       "        </tr>\n",
       "        <tr>\n",
       "            <td>HS305355</td>\n",
       "            <td>NARCOTICS</td>\n",
       "            <td>Brighton Park</td>\n",
       "        </tr>\n",
       "        <tr>\n",
       "            <td>HT315369</td>\n",
       "            <td>ASSAULT</td>\n",
       "            <td>East Garfield Park</td>\n",
       "        </tr>\n",
       "        <tr>\n",
       "            <td>HR585012</td>\n",
       "            <td>CRIMINAL TRESPASS</td>\n",
       "            <td>Ashburn</td>\n",
       "        </tr>\n",
       "        <tr>\n",
       "            <td>HH292682</td>\n",
       "            <td>PUBLIC PEACE VIOLATION</td>\n",
       "            <td>None</td>\n",
       "        </tr>\n",
       "        <tr>\n",
       "            <td>G635735</td>\n",
       "            <td>PUBLIC PEACE VIOLATION</td>\n",
       "            <td>None</td>\n",
       "        </tr>\n",
       "    </tbody>\n",
       "</table>"
      ],
      "text/plain": [
       "[('HL353697', 'BATTERY', 'South Shore'),\n",
       " ('HL725506', 'BATTERY', 'Lincoln Square'),\n",
       " ('HP716225', 'BATTERY', 'Douglas'),\n",
       " ('HH639427', 'BATTERY', 'Austin'),\n",
       " ('JA460432', 'BATTERY', 'Ashburn'),\n",
       " ('HS200939', 'CRIMINAL DAMAGE', 'Austin'),\n",
       " ('HK577020', 'NARCOTICS', 'Rogers Park'),\n",
       " ('HS305355', 'NARCOTICS', 'Brighton Park'),\n",
       " ('HT315369', 'ASSAULT', 'East Garfield Park'),\n",
       " ('HR585012', 'CRIMINAL TRESPASS', 'Ashburn'),\n",
       " ('HH292682', 'PUBLIC PEACE VIOLATION', None),\n",
       " ('G635735', 'PUBLIC PEACE VIOLATION', None)]"
      ]
     },
     "execution_count": 22,
     "metadata": {},
     "output_type": "execute_result"
    }
   ],
   "source": [
    "%%sql \n",
    "\n",
    "SELECT crime.CASE_NUMBER, crime.PRIMARY_TYPE, cen.COMMUNITY_AREA_NAME\n",
    "FROM chi_crime_data AS crime\n",
    "LEFT JOIN chi_census_data as cen\n",
    "ON crime.COMMUNITY_AREA_NUMBER = cen.COMMUNITY_AREA_NUMBER\n",
    "WHERE LOWER(crime.LOCATION_DESCRIPTION) LIKE '%school%';"
   ]
  },
  {
   "cell_type": "markdown",
   "metadata": {},
   "source": [
    "### Honors Problem 3"
   ]
  },
  {
   "cell_type": "markdown",
   "metadata": {},
   "source": [
    "#### Write and execute a SQL statement to create a view showing the columns listed in the following table, with new column names as shown in the second column."
   ]
  },
  {
   "cell_type": "code",
   "execution_count": 27,
   "metadata": {},
   "outputs": [
    {
     "name": "stdout",
     "output_type": "stream",
     "text": [
      " * sqlite:///FinalDB.db\n",
      "(sqlite3.OperationalError) table Chicago_Schools_Ratings already exists\n",
      "[SQL: CREATE VIEW Chicago_Schools_Ratings AS\n",
      "SELECT\n",
      "    NAME_OF_SCHOOL AS School_Name,\n",
      "    Safety_Icon AS Safety_Rating,\n",
      "    Family_Involvement_Icon AS Family_Rating,\n",
      "    Environment_Icon AS Environment_Rating,\n",
      "    Instruction_Icon AS Instruction_Rating,\n",
      "    Leaders_Icon AS Leaders_Rating,\n",
      "    Teachers_Icon AS Teachers_Rating\n",
      "FROM chi_pub_school_data;]\n",
      "(Background on this error at: https://sqlalche.me/e/20/e3q8)\n"
     ]
    }
   ],
   "source": [
    "%%sql\n",
    "\n",
    "CREATE VIEW Chicago_Schools_Ratings AS\n",
    "SELECT\n",
    "    NAME_OF_SCHOOL AS School_Name,\n",
    "    Safety_Icon AS Safety_Rating,\n",
    "    Family_Involvement_Icon AS Family_Rating,\n",
    "    Environment_Icon AS Environment_Rating,\n",
    "    Instruction_Icon AS Instruction_Rating,\n",
    "    Leaders_Icon AS Leaders_Rating,\n",
    "    Teachers_Icon AS Teachers_Rating\n",
    "FROM chi_pub_school_data;"
   ]
  },
  {
   "cell_type": "code",
   "execution_count": 29,
   "metadata": {},
   "outputs": [
    {
     "name": "stdout",
     "output_type": "stream",
     "text": [
      " * sqlite:///FinalDB.db\n",
      "Done.\n"
     ]
    },
    {
     "data": {
      "text/html": [
       "<table>\n",
       "    <thead>\n",
       "        <tr>\n",
       "            <th>School_Name</th>\n",
       "            <th>Safety_Rating</th>\n",
       "            <th>Family_Rating</th>\n",
       "            <th>Environment_Rating</th>\n",
       "            <th>Instruction_Rating</th>\n",
       "            <th>Leaders_Rating</th>\n",
       "            <th>Teachers_Rating</th>\n",
       "        </tr>\n",
       "    </thead>\n",
       "    <tbody>\n",
       "        <tr>\n",
       "            <td>Abraham Lincoln Elementary School</td>\n",
       "            <td>Very Strong</td>\n",
       "            <td>Very Strong</td>\n",
       "            <td>Strong</td>\n",
       "            <td>Strong</td>\n",
       "            <td>Weak</td>\n",
       "            <td>Strong</td>\n",
       "        </tr>\n",
       "        <tr>\n",
       "            <td>Adam Clayton Powell Paideia Community Academy Elementary School</td>\n",
       "            <td>Average</td>\n",
       "            <td>Strong</td>\n",
       "            <td>Strong</td>\n",
       "            <td>Very Strong</td>\n",
       "            <td>Weak</td>\n",
       "            <td>Strong</td>\n",
       "        </tr>\n",
       "        <tr>\n",
       "            <td>Adlai E Stevenson Elementary School</td>\n",
       "            <td>Strong</td>\n",
       "            <td>NDA</td>\n",
       "            <td>Average</td>\n",
       "            <td>Weak</td>\n",
       "            <td>Weak</td>\n",
       "            <td>NDA</td>\n",
       "        </tr>\n",
       "        <tr>\n",
       "            <td>Agustin Lara Elementary Academy</td>\n",
       "            <td>Average</td>\n",
       "            <td>Average</td>\n",
       "            <td>Average</td>\n",
       "            <td>Weak</td>\n",
       "            <td>Weak</td>\n",
       "            <td>Average</td>\n",
       "        </tr>\n",
       "        <tr>\n",
       "            <td>Air Force Academy High School</td>\n",
       "            <td>Average</td>\n",
       "            <td>Strong</td>\n",
       "            <td>Strong</td>\n",
       "            <td>Average</td>\n",
       "            <td>Weak</td>\n",
       "            <td>Average</td>\n",
       "        </tr>\n",
       "    </tbody>\n",
       "</table>"
      ],
      "text/plain": [
       "[('Abraham Lincoln Elementary School', 'Very Strong', 'Very Strong', 'Strong', 'Strong', 'Weak', 'Strong'),\n",
       " ('Adam Clayton Powell Paideia Community Academy Elementary School', 'Average', 'Strong', 'Strong', 'Very Strong', 'Weak', 'Strong'),\n",
       " ('Adlai E Stevenson Elementary School', 'Strong', 'NDA', 'Average', 'Weak', 'Weak', 'NDA'),\n",
       " ('Agustin Lara Elementary Academy', 'Average', 'Average', 'Average', 'Weak', 'Weak', 'Average'),\n",
       " ('Air Force Academy High School', 'Average', 'Strong', 'Strong', 'Average', 'Weak', 'Average')]"
      ]
     },
     "execution_count": 29,
     "metadata": {},
     "output_type": "execute_result"
    }
   ],
   "source": [
    "%%sql\n",
    "SELECT * FROM Chicago_Schools_Ratings LIMIT 5;"
   ]
  },
  {
   "cell_type": "markdown",
   "metadata": {
    "tags": []
   },
   "source": [
    "#### Write and execute a SQL statement that returns all of the columns from the view."
   ]
  },
  {
   "cell_type": "code",
   "execution_count": 34,
   "metadata": {},
   "outputs": [
    {
     "name": "stdout",
     "output_type": "stream",
     "text": [
      " * sqlite:///FinalDB.db\n",
      "Done.\n"
     ]
    },
    {
     "data": {
      "text/html": [
       "<table>\n",
       "    <thead>\n",
       "        <tr>\n",
       "            <th>School_Name</th>\n",
       "            <th>Safety_Rating</th>\n",
       "            <th>Family_Rating</th>\n",
       "            <th>Environment_Rating</th>\n",
       "            <th>Instruction_Rating</th>\n",
       "            <th>Leaders_Rating</th>\n",
       "            <th>Teachers_Rating</th>\n",
       "        </tr>\n",
       "    </thead>\n",
       "    <tbody>\n",
       "        <tr>\n",
       "            <td>Abraham Lincoln Elementary School</td>\n",
       "            <td>Very Strong</td>\n",
       "            <td>Very Strong</td>\n",
       "            <td>Strong</td>\n",
       "            <td>Strong</td>\n",
       "            <td>Weak</td>\n",
       "            <td>Strong</td>\n",
       "        </tr>\n",
       "        <tr>\n",
       "            <td>Adam Clayton Powell Paideia Community Academy Elementary School</td>\n",
       "            <td>Average</td>\n",
       "            <td>Strong</td>\n",
       "            <td>Strong</td>\n",
       "            <td>Very Strong</td>\n",
       "            <td>Weak</td>\n",
       "            <td>Strong</td>\n",
       "        </tr>\n",
       "        <tr>\n",
       "            <td>Adlai E Stevenson Elementary School</td>\n",
       "            <td>Strong</td>\n",
       "            <td>NDA</td>\n",
       "            <td>Average</td>\n",
       "            <td>Weak</td>\n",
       "            <td>Weak</td>\n",
       "            <td>NDA</td>\n",
       "        </tr>\n",
       "        <tr>\n",
       "            <td>Agustin Lara Elementary Academy</td>\n",
       "            <td>Average</td>\n",
       "            <td>Average</td>\n",
       "            <td>Average</td>\n",
       "            <td>Weak</td>\n",
       "            <td>Weak</td>\n",
       "            <td>Average</td>\n",
       "        </tr>\n",
       "        <tr>\n",
       "            <td>Air Force Academy High School</td>\n",
       "            <td>Average</td>\n",
       "            <td>Strong</td>\n",
       "            <td>Strong</td>\n",
       "            <td>Average</td>\n",
       "            <td>Weak</td>\n",
       "            <td>Average</td>\n",
       "        </tr>\n",
       "        <tr>\n",
       "            <td>Albany Park Multicultural Academy</td>\n",
       "            <td>Strong</td>\n",
       "            <td>Weak</td>\n",
       "            <td>Strong</td>\n",
       "            <td>Strong</td>\n",
       "            <td>Weak</td>\n",
       "            <td>Average</td>\n",
       "        </tr>\n",
       "        <tr>\n",
       "            <td>Albert G Lane Technical High School</td>\n",
       "            <td>Very Strong</td>\n",
       "            <td>NDA</td>\n",
       "            <td>Strong</td>\n",
       "            <td>Average</td>\n",
       "            <td>Weak</td>\n",
       "            <td>NDA</td>\n",
       "        </tr>\n",
       "        <tr>\n",
       "            <td>Albert R Sabin Elementary Magnet School</td>\n",
       "            <td>Strong</td>\n",
       "            <td>NDA</td>\n",
       "            <td>Weak</td>\n",
       "            <td>Very Weak</td>\n",
       "            <td>Weak</td>\n",
       "            <td>NDA</td>\n",
       "        </tr>\n",
       "        <tr>\n",
       "            <td>Alcott High School for the Humanities</td>\n",
       "            <td>Strong</td>\n",
       "            <td>NDA</td>\n",
       "            <td>Strong</td>\n",
       "            <td>Average</td>\n",
       "            <td>Weak</td>\n",
       "            <td>NDA</td>\n",
       "        </tr>\n",
       "        <tr>\n",
       "            <td>Alessandro Volta Elementary School</td>\n",
       "            <td>Average</td>\n",
       "            <td>Strong</td>\n",
       "            <td>Weak</td>\n",
       "            <td>Weak</td>\n",
       "            <td>Weak</td>\n",
       "            <td>Average</td>\n",
       "        </tr>\n",
       "        <tr>\n",
       "            <td>Alexander Graham Bell Elementary School</td>\n",
       "            <td>Very Strong</td>\n",
       "            <td>Very Strong</td>\n",
       "            <td>Strong</td>\n",
       "            <td>Average</td>\n",
       "            <td>Weak</td>\n",
       "            <td>Average</td>\n",
       "        </tr>\n",
       "        <tr>\n",
       "            <td>Alexander Graham Elementary School</td>\n",
       "            <td>Average</td>\n",
       "            <td>Weak</td>\n",
       "            <td>Weak</td>\n",
       "            <td>Weak</td>\n",
       "            <td>Weak</td>\n",
       "            <td>Average</td>\n",
       "        </tr>\n",
       "        <tr>\n",
       "            <td>Alexander Hamilton Elementary School</td>\n",
       "            <td>Strong</td>\n",
       "            <td>Strong</td>\n",
       "            <td>Strong</td>\n",
       "            <td>Average</td>\n",
       "            <td>Weak</td>\n",
       "            <td>Average</td>\n",
       "        </tr>\n",
       "        <tr>\n",
       "            <td>Alexander von Humboldt Elementary School</td>\n",
       "            <td>Weak</td>\n",
       "            <td>NDA</td>\n",
       "            <td>Weak</td>\n",
       "            <td>Average</td>\n",
       "            <td>Weak</td>\n",
       "            <td>NDA</td>\n",
       "        </tr>\n",
       "        <tr>\n",
       "            <td>Alex Haley Elementary Academy</td>\n",
       "            <td>Weak</td>\n",
       "            <td>NDA</td>\n",
       "            <td>Average</td>\n",
       "            <td>Strong</td>\n",
       "            <td>Weak</td>\n",
       "            <td>NDA</td>\n",
       "        </tr>\n",
       "    </tbody>\n",
       "</table>"
      ],
      "text/plain": [
       "[('Abraham Lincoln Elementary School', 'Very Strong', 'Very Strong', 'Strong', 'Strong', 'Weak', 'Strong'),\n",
       " ('Adam Clayton Powell Paideia Community Academy Elementary School', 'Average', 'Strong', 'Strong', 'Very Strong', 'Weak', 'Strong'),\n",
       " ('Adlai E Stevenson Elementary School', 'Strong', 'NDA', 'Average', 'Weak', 'Weak', 'NDA'),\n",
       " ('Agustin Lara Elementary Academy', 'Average', 'Average', 'Average', 'Weak', 'Weak', 'Average'),\n",
       " ('Air Force Academy High School', 'Average', 'Strong', 'Strong', 'Average', 'Weak', 'Average'),\n",
       " ('Albany Park Multicultural Academy', 'Strong', 'Weak', 'Strong', 'Strong', 'Weak', 'Average'),\n",
       " ('Albert G Lane Technical High School', 'Very Strong', 'NDA', 'Strong', 'Average', 'Weak', 'NDA'),\n",
       " ('Albert R Sabin Elementary Magnet School', 'Strong', 'NDA', 'Weak', 'Very Weak', 'Weak', 'NDA'),\n",
       " ('Alcott High School for the Humanities', 'Strong', 'NDA', 'Strong', 'Average', 'Weak', 'NDA'),\n",
       " ('Alessandro Volta Elementary School', 'Average', 'Strong', 'Weak', 'Weak', 'Weak', 'Average'),\n",
       " ('Alexander Graham Bell Elementary School', 'Very Strong', 'Very Strong', 'Strong', 'Average', 'Weak', 'Average'),\n",
       " ('Alexander Graham Elementary School', 'Average', 'Weak', 'Weak', 'Weak', 'Weak', 'Average'),\n",
       " ('Alexander Hamilton Elementary School', 'Strong', 'Strong', 'Strong', 'Average', 'Weak', 'Average'),\n",
       " ('Alexander von Humboldt Elementary School', 'Weak', 'NDA', 'Weak', 'Average', 'Weak', 'NDA'),\n",
       " ('Alex Haley Elementary Academy', 'Weak', 'NDA', 'Average', 'Strong', 'Weak', 'NDA')]"
      ]
     },
     "execution_count": 34,
     "metadata": {},
     "output_type": "execute_result"
    }
   ],
   "source": [
    "%%sql \n",
    "SELECT * \n",
    "FROM Chicago_Schools_Ratings\n",
    "LIMIT 15;"
   ]
  },
  {
   "cell_type": "markdown",
   "metadata": {},
   "source": [
    "#### Write and execute a SQL statement that returns just the school name and leaders rating from the view."
   ]
  },
  {
   "cell_type": "code",
   "execution_count": 33,
   "metadata": {},
   "outputs": [
    {
     "name": "stdout",
     "output_type": "stream",
     "text": [
      " * sqlite:///FinalDB.db\n",
      "Done.\n"
     ]
    },
    {
     "data": {
      "text/html": [
       "<table>\n",
       "    <thead>\n",
       "        <tr>\n",
       "            <th>School_Name</th>\n",
       "            <th>Leaders_Rating</th>\n",
       "        </tr>\n",
       "    </thead>\n",
       "    <tbody>\n",
       "        <tr>\n",
       "            <td>Abraham Lincoln Elementary School</td>\n",
       "            <td>Weak</td>\n",
       "        </tr>\n",
       "        <tr>\n",
       "            <td>Adam Clayton Powell Paideia Community Academy Elementary School</td>\n",
       "            <td>Weak</td>\n",
       "        </tr>\n",
       "        <tr>\n",
       "            <td>Adlai E Stevenson Elementary School</td>\n",
       "            <td>Weak</td>\n",
       "        </tr>\n",
       "        <tr>\n",
       "            <td>Agustin Lara Elementary Academy</td>\n",
       "            <td>Weak</td>\n",
       "        </tr>\n",
       "        <tr>\n",
       "            <td>Air Force Academy High School</td>\n",
       "            <td>Weak</td>\n",
       "        </tr>\n",
       "        <tr>\n",
       "            <td>Albany Park Multicultural Academy</td>\n",
       "            <td>Weak</td>\n",
       "        </tr>\n",
       "        <tr>\n",
       "            <td>Albert G Lane Technical High School</td>\n",
       "            <td>Weak</td>\n",
       "        </tr>\n",
       "        <tr>\n",
       "            <td>Albert R Sabin Elementary Magnet School</td>\n",
       "            <td>Weak</td>\n",
       "        </tr>\n",
       "        <tr>\n",
       "            <td>Alcott High School for the Humanities</td>\n",
       "            <td>Weak</td>\n",
       "        </tr>\n",
       "        <tr>\n",
       "            <td>Alessandro Volta Elementary School</td>\n",
       "            <td>Weak</td>\n",
       "        </tr>\n",
       "        <tr>\n",
       "            <td>Alexander Graham Bell Elementary School</td>\n",
       "            <td>Weak</td>\n",
       "        </tr>\n",
       "        <tr>\n",
       "            <td>Alexander Graham Elementary School</td>\n",
       "            <td>Weak</td>\n",
       "        </tr>\n",
       "        <tr>\n",
       "            <td>Alexander Hamilton Elementary School</td>\n",
       "            <td>Weak</td>\n",
       "        </tr>\n",
       "        <tr>\n",
       "            <td>Alexander von Humboldt Elementary School</td>\n",
       "            <td>Weak</td>\n",
       "        </tr>\n",
       "        <tr>\n",
       "            <td>Alex Haley Elementary Academy</td>\n",
       "            <td>Weak</td>\n",
       "        </tr>\n",
       "    </tbody>\n",
       "</table>"
      ],
      "text/plain": [
       "[('Abraham Lincoln Elementary School', 'Weak'),\n",
       " ('Adam Clayton Powell Paideia Community Academy Elementary School', 'Weak'),\n",
       " ('Adlai E Stevenson Elementary School', 'Weak'),\n",
       " ('Agustin Lara Elementary Academy', 'Weak'),\n",
       " ('Air Force Academy High School', 'Weak'),\n",
       " ('Albany Park Multicultural Academy', 'Weak'),\n",
       " ('Albert G Lane Technical High School', 'Weak'),\n",
       " ('Albert R Sabin Elementary Magnet School', 'Weak'),\n",
       " ('Alcott High School for the Humanities', 'Weak'),\n",
       " ('Alessandro Volta Elementary School', 'Weak'),\n",
       " ('Alexander Graham Bell Elementary School', 'Weak'),\n",
       " ('Alexander Graham Elementary School', 'Weak'),\n",
       " ('Alexander Hamilton Elementary School', 'Weak'),\n",
       " ('Alexander von Humboldt Elementary School', 'Weak'),\n",
       " ('Alex Haley Elementary Academy', 'Weak')]"
      ]
     },
     "execution_count": 33,
     "metadata": {},
     "output_type": "execute_result"
    }
   ],
   "source": [
    "%%sql \n",
    "SELECT School_Name, Leaders_Rating \n",
    "FROM Chicago_Schools_Ratings\n",
    "LIMIT 15;"
   ]
  },
  {
   "cell_type": "markdown",
   "metadata": {},
   "source": [
    "\n",
    "\n",
    "## Additional Honors Problems Author and Contributor Credits\n",
    "### Author(s)\n",
    "\n",
    "#### Lakshmi Holla\n",
    "#### Malika Singla \n",
    "\n",
    "### Additional Contributor\n",
    "\n",
    "#### Abhishek Gagneja\n"
   ]
  }
 ],
 "metadata": {
  "kernelspec": {
   "display_name": "Python 3",
   "language": "python",
   "name": "python3"
  },
  "language_info": {
   "codemirror_mode": {
    "name": "ipython",
    "version": 3
   },
   "file_extension": ".py",
   "mimetype": "text/x-python",
   "name": "python",
   "nbconvert_exporter": "python",
   "pygments_lexer": "ipython3",
   "version": "3.8.8"
  },
  "prev_pub_hash": "1d4caa9dff548bba47d8f4339e735e64605120c41df87b27e2c5cffed5fd81c9"
 },
 "nbformat": 4,
 "nbformat_minor": 4
}
