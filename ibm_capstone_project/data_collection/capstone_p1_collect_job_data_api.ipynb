{
 "cells": [
  {
   "cell_type": "markdown",
   "metadata": {},
   "source": [
    "# **Capstone Part 1:** Collecting Job Data Using APIs\n"
   ]
  },
  {
   "cell_type": "markdown",
   "metadata": {},
   "source": [
    "#### Student Author: Abigail Hedden"
   ]
  },
  {
   "cell_type": "markdown",
   "metadata": {},
   "source": [
    "## Objectives\n",
    "*   Collect job data from Jobs API\n",
    "*   Save the collected data to an Excel spreadsheet\n"
   ]
  },
  {
   "cell_type": "markdown",
   "metadata": {},
   "source": [
    "## Dataset Used in this Assignment\n",
    "\n",
    "* The dataset used in this lab comes from the following source: https://www.kaggle.com/promptcloud/jobs-on-naukricom under the under a **Public Domain license**.\n",
    "* Note: This lab uses a modified subset of that dataset for the lab.\n",
    "* The original dataset is a csv. Course authors converted the csv to json."
   ]
  },
  {
   "cell_type": "markdown",
   "metadata": {},
   "source": [
    "## Lab: Collect Jobs Data using Jobs API\n"
   ]
  },
  {
   "cell_type": "code",
   "execution_count": 17,
   "metadata": {},
   "outputs": [],
   "source": [
    "# import required libraries\n",
    "import pandas as pd\n",
    "import json\n",
    "from openpyxl import Workbook"
   ]
  },
  {
   "cell_type": "markdown",
   "metadata": {},
   "source": [
    "### Objective: Determine the number of jobs currently open for various technologies  and for various locations\n"
   ]
  },
  {
   "cell_type": "markdown",
   "metadata": {},
   "source": [
    "Collect the number of job postings for the following locations using the API:\n",
    "\n",
    "* Los Angeles\n",
    "* New York\n",
    "* San Francisco\n",
    "* Washington DC\n",
    "* Seattle\n",
    "* Austin\n",
    "* Detroit\n"
   ]
  },
  {
   "cell_type": "code",
   "execution_count": 5,
   "metadata": {},
   "outputs": [
    {
     "name": "stdout",
     "output_type": "stream",
     "text": [
      "Total jobs in dataset: 27005\n",
      "Washington DC  :   5316 jobs\n",
      "Detroit        :   3945 jobs\n",
      "Seattle        :   3375 jobs\n",
      "New York       :   3226 jobs\n",
      "Los Angeles    :    640 jobs\n",
      "San Francisco  :    435 jobs\n",
      "Austin         :    434 jobs\n",
      "Total in list of locations:  17371 jobs\n"
     ]
    }
   ],
   "source": [
    "# define list of locations\n",
    "locations = ['Los Angeles', 'New York', 'San Francisco', 'Washington DC','Seattle', 'Austin', 'Detroit']\n",
    "\n",
    "# initialize counters for target locations\n",
    "location_counts = {location: 0 for location in locations}\n",
    "\n",
    "try:\n",
    "    # read and parse the JSON file\n",
    "    with open(\"jobs.json\", 'r', encoding='utf-8') as file:\n",
    "        jobs_data = json.load(file)\n",
    "    \n",
    "    # handle different JSON structures\n",
    "    # if a list, simply assign to jobs_list\n",
    "    if isinstance(jobs_data, list):\n",
    "        jobs_list = jobs_data\n",
    "    # if a dictionary, take all the values from the dictionary (ignores the keys), convert them into a list, and assign it to jobs_list\n",
    "    elif isinstance(jobs_data, dict):\n",
    "        jobs_list = list(jobs_data.values())\n",
    "    # if structure is something else, print an error message and set jobs_list to an empty list \n",
    "    else:\n",
    "        print(\"Unexpected JSON structure\")\n",
    "        jobs_list = []\n",
    "    \n",
    "    print(f\"Total jobs in dataset: {len(jobs_list)}\")\n",
    "    \n",
    "    # count the number of jobs for each location\n",
    "    for job in jobs_list:\n",
    "        if isinstance(job, dict) and 'Location' in job:\n",
    "            job_location = job['Location'].strip()\n",
    "            # check if job location matches any target location\n",
    "            for location in locations:\n",
    "                if location.lower() in job_location.lower():\n",
    "                    location_counts[location] += 1\n",
    "                    break\n",
    "\n",
    "except Exception as e:\n",
    "    print(\"An error occurred while processing the jobs data:\", e)\n",
    "    \n",
    "# display results\n",
    "# sort by count \n",
    "sorted_locations = sorted(location_counts.items(), key=lambda x: x[1], reverse=True)\n",
    " \n",
    "for location, count in sorted_locations:\n",
    "    print(f\"{location:<15}: {count:>6} jobs\")\n",
    "\n",
    "total_jobs = sum(location_counts.values())\n",
    "print(f\"{'Total in list of locations':<15}: {total_jobs:>6} jobs\")"
   ]
  },
  {
   "cell_type": "markdown",
   "metadata": {},
   "source": [
    "### Write a function to get the number of jobs for the Python technology\n",
    "  \n",
    " ##### The keys in the json are \n",
    " * Job Title\n",
    " \n",
    " * Job Experience Required\n",
    " \n",
    " * Key Skills\n",
    " \n",
    " * Role Category\n",
    " \n",
    " * Location\n",
    " \n",
    " * Functional Area\n",
    " \n",
    " * Industry\n",
    " \n",
    " * Role "
   ]
  },
  {
   "cell_type": "markdown",
   "metadata": {},
   "source": [
    "#### Define function"
   ]
  },
  {
   "cell_type": "code",
   "execution_count": 8,
   "metadata": {},
   "outputs": [],
   "source": [
    "api_url=\"http://127.0.0.1:5000/data\"\n",
    "\n",
    "def get_number_of_jobs_T(technology):\n",
    "# function to search job roles for certain technologies\n",
    "# returns number of jobs that contain the provided technology in any of the json keys mentioned above \n",
    "    try:\n",
    "        # read and parse the JSON file\n",
    "        with open('jobs.json', 'r', encoding='utf-8') as file:\n",
    "            jobs_data = json.load(file)\n",
    "        \n",
    "        if isinstance(jobs_data, list):\n",
    "            jobs_list = jobs_data\n",
    "        elif isinstance(jobs_data, dict):\n",
    "            jobs_list = list(jobs_data.values())\n",
    "        else:\n",
    "            print('Unexpected JSON structure')\n",
    "            return technology, 0\n",
    "        \n",
    "        technology_count = 0\n",
    "        technology_lower = technology.lower()\n",
    "        \n",
    "        # search through each job\n",
    "        for job in jobs_list:\n",
    "            if isinstance(job, dict):\n",
    "                # Fields to search for the technology\n",
    "                search_fields = [\n",
    "                    job.get('Job Title', ''),\n",
    "                    job.get('Key Skills', ''),\n",
    "                    job.get('Role Category', ''),\n",
    "                    job.get('Functional Area', ''),\n",
    "                    job.get('Industry', ''),\n",
    "                    job.get('Role', '')\n",
    "                ]\n",
    "                \n",
    "                # check if technology is mentioned in any of the keys\n",
    "                for field in search_fields:\n",
    "                    if field and technology_lower in field.lower():\n",
    "                        technology_count += 1\n",
    "                        break  \n",
    "        \n",
    "        return technology, technology_count\n",
    "    \n",
    "    except Exception as e:\n",
    "        print(f\"An error occurred: {str(e)}\")\n",
    "        return technology, 0"
   ]
  },
  {
   "cell_type": "markdown",
   "metadata": {},
   "source": [
    "#### Call the function for **Python** to ensure it works"
   ]
  },
  {
   "cell_type": "code",
   "execution_count": 9,
   "metadata": {},
   "outputs": [
    {
     "data": {
      "text/plain": [
       "('Python', 1189)"
      ]
     },
     "execution_count": 9,
     "metadata": {},
     "output_type": "execute_result"
    }
   ],
   "source": [
    "# call function for python\n",
    "get_number_of_jobs_T('Python')"
   ]
  },
  {
   "cell_type": "markdown",
   "metadata": {},
   "source": [
    "### Write a function to find number of jobs in US for a location of your choice"
   ]
  },
  {
   "cell_type": "markdown",
   "metadata": {},
   "source": [
    "#### Define function"
   ]
  },
  {
   "cell_type": "code",
   "execution_count": 11,
   "metadata": {},
   "outputs": [],
   "source": [
    "def get_number_of_jobs_L(location):\n",
    "\n",
    "    try:\n",
    "        # read and parse the JSON file\n",
    "        with open('jobs.json', 'r', encoding='utf-8') as file:\n",
    "            jobs_data = json.load(file)\n",
    "        \n",
    "        # handle different JSON structures\n",
    "        if isinstance(jobs_data, list):\n",
    "            jobs_list = jobs_data\n",
    "        elif isinstance(jobs_data, dict):\n",
    "            jobs_list = list(jobs_data.values())\n",
    "        else:\n",
    "            print(\"Unexpected JSON structure\")\n",
    "            return location, 0\n",
    "        \n",
    "        location_count = 0\n",
    "        number_of_jobs = 0\n",
    "        location_lower = location.lower()\n",
    "        \n",
    "        for job in jobs_list:\n",
    "            if isinstance(job, dict) and 'Location' in job:\n",
    "                job_location = job['Location'].strip().lower()\n",
    "                if location_lower in job_location:\n",
    "                    number_of_jobs += 1\n",
    "        \n",
    "        return location,number_of_jobs\n",
    "    \n",
    "    except Exception as e:\n",
    "        print(f\"An error occurred: {str(e)}\")\n",
    "        return location, 0"
   ]
  },
  {
   "cell_type": "markdown",
   "metadata": {},
   "source": [
    "#### Call the function for Los Angeles to ensure it works"
   ]
  },
  {
   "cell_type": "code",
   "execution_count": 13,
   "metadata": {},
   "outputs": [
    {
     "data": {
      "text/plain": [
       "('Los Angeles', 640)"
      ]
     },
     "execution_count": 13,
     "metadata": {},
     "output_type": "execute_result"
    }
   ],
   "source": [
    "# call function for L.A.\n",
    "get_number_of_jobs_L('Los Angeles')"
   ]
  },
  {
   "cell_type": "markdown",
   "metadata": {},
   "source": [
    "## Store the results in an excel file\n",
    "#### *Locations*"
   ]
  },
  {
   "cell_type": "code",
   "execution_count": 36,
   "metadata": {},
   "outputs": [],
   "source": [
    "# create a python list of all locations for which you need to find the number of jobs postings (already written above as well)\n",
    "locations = ['Los Angeles', 'New York', 'San Francisco', 'Washington DC','Seattle', 'Austin', 'Detroit']"
   ]
  },
  {
   "cell_type": "code",
   "execution_count": 37,
   "metadata": {},
   "outputs": [],
   "source": [
    "# create a workbook and select the active worksheet\n",
    "wb = Workbook()\n",
    "ws1 = wb.active\n",
    "\n",
    "# give worksheet a title\n",
    "ws1.title = \"location-job-counts\"\n",
    "\n",
    "# add headers\n",
    "ws1.append(['Location', 'Number of Jobs'])"
   ]
  },
  {
   "cell_type": "markdown",
   "metadata": {},
   "source": [
    "#### Add the job counts for each location to the spreadsheet\n",
    "* *Find the number of jobs postings for each of the location in the above list*\n",
    "* *Write the Location name and the number of jobs postings into the excel spreadsheet*"
   ]
  },
  {
   "cell_type": "code",
   "execution_count": 38,
   "metadata": {},
   "outputs": [],
   "source": [
    "# loop through each location and find number of jobs, adding info to excel sheet\n",
    "for location in locations:\n",
    "    location_name, number_of_jobs = get_number_of_jobs_L(location)\n",
    "    ws1.append([location_name, number_of_jobs])"
   ]
  },
  {
   "cell_type": "code",
   "execution_count": 39,
   "metadata": {},
   "outputs": [],
   "source": [
    "# save into an excel spreadsheet named 'job-postings.xlsx'\n",
    "wb.save(\"job-postings.xlsx\")\n"
   ]
  },
  {
   "cell_type": "markdown",
   "metadata": {},
   "source": [
    "#### *Technologies*"
   ]
  },
  {
   "cell_type": "markdown",
   "metadata": {},
   "source": [
    "Collect the number of job postings for the following languages using the API:\n",
    "\n",
    "*   C\n",
    "*   C#\n",
    "*   C++\n",
    "*   Java\n",
    "*   JavaScript\n",
    "*   Python\n",
    "*   Scala\n",
    "*   Oracle\n",
    "*   SQL Server\n",
    "*   MySQL Server\n",
    "*   PostgreSQL\n",
    "*   MongoDB\n"
   ]
  },
  {
   "cell_type": "code",
   "execution_count": 40,
   "metadata": {},
   "outputs": [],
   "source": [
    "# create a python list of all technologies \n",
    "technologies = ['C', 'C#', 'C++', 'Java', 'JavaScript', 'Python', 'Scala', 'Oracle', 'SQL Server', 'MySQL Server', 'PostgreSQL','MongoDB']"
   ]
  },
  {
   "cell_type": "code",
   "execution_count": 41,
   "metadata": {},
   "outputs": [],
   "source": [
    "# make new worksheet in existing workbook\n",
    "ws2 = wb.create_sheet(title=\"tech-job-counts\")\n",
    "\n",
    "# add headers\n",
    "ws2.append(['Technology', 'Number of Jobs'])"
   ]
  },
  {
   "cell_type": "markdown",
   "metadata": {},
   "source": [
    "#### Add the job counts for each technology to the spreadsheet"
   ]
  },
  {
   "cell_type": "code",
   "execution_count": 42,
   "metadata": {},
   "outputs": [],
   "source": [
    "# loop through each technology and find number of jobs, adding info to excel sheet\n",
    "for technology in technologies:\n",
    "    tech_name, number_of_jobs = get_number_of_jobs_T(technology)\n",
    "    ws2.append([tech_name, number_of_jobs])"
   ]
  },
  {
   "cell_type": "code",
   "execution_count": 43,
   "metadata": {},
   "outputs": [],
   "source": [
    "# save into an excel spreadsheet named 'job-postings.xlsx'\n",
    "wb.save(\"job-postings.xlsx\")"
   ]
  },
  {
   "cell_type": "markdown",
   "metadata": {},
   "source": [
    "# *Original Course Lab Authors & Contributors*"
   ]
  },
  {
   "cell_type": "markdown",
   "metadata": {},
   "source": [
    "## Author\n"
   ]
  },
  {
   "cell_type": "markdown",
   "metadata": {},
   "source": [
    "Ayushi Jain\n"
   ]
  },
  {
   "cell_type": "markdown",
   "metadata": {},
   "source": [
    "### Other Contributors\n"
   ]
  },
  {
   "cell_type": "markdown",
   "metadata": {},
   "source": [
    "Rav Ahuja\n",
    "\n",
    "Lakshmi Holla\n",
    "\n",
    "Malika\n"
   ]
  },
  {
   "cell_type": "markdown",
   "metadata": {},
   "source": [
    "Copyright © 2022 IBM Corporation. All rights reserved. \n"
   ]
  }
 ],
 "metadata": {
  "kernelspec": {
   "display_name": "Python 3",
   "language": "python",
   "name": "python3"
  },
  "language_info": {
   "codemirror_mode": {
    "name": "ipython",
    "version": 3
   },
   "file_extension": ".py",
   "mimetype": "text/x-python",
   "name": "python",
   "nbconvert_exporter": "python",
   "pygments_lexer": "ipython3",
   "version": "3.8.8"
  }
 },
 "nbformat": 4,
 "nbformat_minor": 4
}
